{
 "cells": [
  {
   "cell_type": "markdown",
   "metadata": {},
   "source": [
    "## 練習時間\n",
    "資料的操作有很多，接下來的馬拉松中我們會介紹常被使用到的操作，參加者不妨先自行想像一下，第一次看到資料，我們一般會想知道什麼訊息？\n",
    "\n",
    "#### Ex: 如何知道資料的 row 數以及 column 數、有什麼欄位、多少欄位、如何截取部分的資料等等\n",
    "\n",
    "有了對資料的好奇之後，我們又怎麼通過程式碼來達成我們的目的呢？\n",
    "\n",
    "#### 可參考該[基礎教材](https://bookdata.readthedocs.io/en/latest/base/01_pandas.html#DataFrame-%E5%85%A5%E9%97%A8)或自行 google"
   ]
  },
  {
   "cell_type": "markdown",
   "metadata": {},
   "source": [
    "# [作業目標]\n",
    "- 熟悉更多的 Python 資料操作"
   ]
  },
  {
   "cell_type": "markdown",
   "metadata": {},
   "source": [
    "# [作業重點]\n",
    "- 列出資料的大小 (In[4], Hint : shape)\n",
    "- 列出所有欄位 (In[5], 有多種寫法)\n",
    "- 擷取部分資料 (In[6], Hint : loc 或 iloc)"
   ]
  },
  {
   "cell_type": "code",
   "execution_count": 1,
   "metadata": {},
   "outputs": [],
   "source": [
    "import os\n",
    "import numpy as np\n",
    "import pandas as pd"
   ]
  },
  {
   "cell_type": "code",
   "execution_count": 2,
   "metadata": {},
   "outputs": [],
   "source": [
    "# 設定 data_path\n",
    "dir_data = './data/'"
   ]
  },
  {
   "cell_type": "code",
   "execution_count": 3,
   "metadata": {},
   "outputs": [
    {
     "name": "stdout",
     "output_type": "stream",
     "text": [
      "Path of read in data: ./data/application_train.csv\n"
     ]
    }
   ],
   "source": [
    "f_app = os.path.join(dir_data, 'application_train.csv')\n",
    "print('Path of read in data: %s' % (f_app))\n",
    "app_train = pd.read_csv(f_app)"
   ]
  },
  {
   "cell_type": "markdown",
   "metadata": {},
   "source": [
    "### 如果沒有想法，可以先嘗試找出剛剛例子中提到的問題的答案\n",
    "#### 資料的 row 數以及 column 數"
   ]
  },
  {
   "cell_type": "code",
   "execution_count": 9,
   "metadata": {},
   "outputs": [
    {
     "name": "stdout",
     "output_type": "stream",
     "text": [
      "rows =  307511 \n",
      "columns =  122\n"
     ]
    }
   ],
   "source": [
    "print('rows = ',app_train.shape[0], '\\n'+'columns = ',app_train.shape[1])"
   ]
  },
  {
   "cell_type": "markdown",
   "metadata": {},
   "source": [
    "#### 列出所有欄位"
   ]
  },
  {
   "cell_type": "code",
   "execution_count": 15,
   "metadata": {},
   "outputs": [
    {
     "name": "stdout",
     "output_type": "stream",
     "text": [
      "<class 'pandas.core.frame.DataFrame'>\n",
      "RangeIndex: 307511 entries, 0 to 307510\n",
      "Data columns (total 122 columns):\n",
      " #   Column                        Dtype  \n",
      "---  ------                        -----  \n",
      " 0   SK_ID_CURR                    int64  \n",
      " 1   TARGET                        int64  \n",
      " 2   NAME_CONTRACT_TYPE            object \n",
      " 3   CODE_GENDER                   object \n",
      " 4   FLAG_OWN_CAR                  object \n",
      " 5   FLAG_OWN_REALTY               object \n",
      " 6   CNT_CHILDREN                  int64  \n",
      " 7   AMT_INCOME_TOTAL              float64\n",
      " 8   AMT_CREDIT                    float64\n",
      " 9   AMT_ANNUITY                   float64\n",
      " 10  AMT_GOODS_PRICE               float64\n",
      " 11  NAME_TYPE_SUITE               object \n",
      " 12  NAME_INCOME_TYPE              object \n",
      " 13  NAME_EDUCATION_TYPE           object \n",
      " 14  NAME_FAMILY_STATUS            object \n",
      " 15  NAME_HOUSING_TYPE             object \n",
      " 16  REGION_POPULATION_RELATIVE    float64\n",
      " 17  DAYS_BIRTH                    int64  \n",
      " 18  DAYS_EMPLOYED                 int64  \n",
      " 19  DAYS_REGISTRATION             float64\n",
      " 20  DAYS_ID_PUBLISH               int64  \n",
      " 21  OWN_CAR_AGE                   float64\n",
      " 22  FLAG_MOBIL                    int64  \n",
      " 23  FLAG_EMP_PHONE                int64  \n",
      " 24  FLAG_WORK_PHONE               int64  \n",
      " 25  FLAG_CONT_MOBILE              int64  \n",
      " 26  FLAG_PHONE                    int64  \n",
      " 27  FLAG_EMAIL                    int64  \n",
      " 28  OCCUPATION_TYPE               object \n",
      " 29  CNT_FAM_MEMBERS               float64\n",
      " 30  REGION_RATING_CLIENT          int64  \n",
      " 31  REGION_RATING_CLIENT_W_CITY   int64  \n",
      " 32  WEEKDAY_APPR_PROCESS_START    object \n",
      " 33  HOUR_APPR_PROCESS_START       int64  \n",
      " 34  REG_REGION_NOT_LIVE_REGION    int64  \n",
      " 35  REG_REGION_NOT_WORK_REGION    int64  \n",
      " 36  LIVE_REGION_NOT_WORK_REGION   int64  \n",
      " 37  REG_CITY_NOT_LIVE_CITY        int64  \n",
      " 38  REG_CITY_NOT_WORK_CITY        int64  \n",
      " 39  LIVE_CITY_NOT_WORK_CITY       int64  \n",
      " 40  ORGANIZATION_TYPE             object \n",
      " 41  EXT_SOURCE_1                  float64\n",
      " 42  EXT_SOURCE_2                  float64\n",
      " 43  EXT_SOURCE_3                  float64\n",
      " 44  APARTMENTS_AVG                float64\n",
      " 45  BASEMENTAREA_AVG              float64\n",
      " 46  YEARS_BEGINEXPLUATATION_AVG   float64\n",
      " 47  YEARS_BUILD_AVG               float64\n",
      " 48  COMMONAREA_AVG                float64\n",
      " 49  ELEVATORS_AVG                 float64\n",
      " 50  ENTRANCES_AVG                 float64\n",
      " 51  FLOORSMAX_AVG                 float64\n",
      " 52  FLOORSMIN_AVG                 float64\n",
      " 53  LANDAREA_AVG                  float64\n",
      " 54  LIVINGAPARTMENTS_AVG          float64\n",
      " 55  LIVINGAREA_AVG                float64\n",
      " 56  NONLIVINGAPARTMENTS_AVG       float64\n",
      " 57  NONLIVINGAREA_AVG             float64\n",
      " 58  APARTMENTS_MODE               float64\n",
      " 59  BASEMENTAREA_MODE             float64\n",
      " 60  YEARS_BEGINEXPLUATATION_MODE  float64\n",
      " 61  YEARS_BUILD_MODE              float64\n",
      " 62  COMMONAREA_MODE               float64\n",
      " 63  ELEVATORS_MODE                float64\n",
      " 64  ENTRANCES_MODE                float64\n",
      " 65  FLOORSMAX_MODE                float64\n",
      " 66  FLOORSMIN_MODE                float64\n",
      " 67  LANDAREA_MODE                 float64\n",
      " 68  LIVINGAPARTMENTS_MODE         float64\n",
      " 69  LIVINGAREA_MODE               float64\n",
      " 70  NONLIVINGAPARTMENTS_MODE      float64\n",
      " 71  NONLIVINGAREA_MODE            float64\n",
      " 72  APARTMENTS_MEDI               float64\n",
      " 73  BASEMENTAREA_MEDI             float64\n",
      " 74  YEARS_BEGINEXPLUATATION_MEDI  float64\n",
      " 75  YEARS_BUILD_MEDI              float64\n",
      " 76  COMMONAREA_MEDI               float64\n",
      " 77  ELEVATORS_MEDI                float64\n",
      " 78  ENTRANCES_MEDI                float64\n",
      " 79  FLOORSMAX_MEDI                float64\n",
      " 80  FLOORSMIN_MEDI                float64\n",
      " 81  LANDAREA_MEDI                 float64\n",
      " 82  LIVINGAPARTMENTS_MEDI         float64\n",
      " 83  LIVINGAREA_MEDI               float64\n",
      " 84  NONLIVINGAPARTMENTS_MEDI      float64\n",
      " 85  NONLIVINGAREA_MEDI            float64\n",
      " 86  FONDKAPREMONT_MODE            object \n",
      " 87  HOUSETYPE_MODE                object \n",
      " 88  TOTALAREA_MODE                float64\n",
      " 89  WALLSMATERIAL_MODE            object \n",
      " 90  EMERGENCYSTATE_MODE           object \n",
      " 91  OBS_30_CNT_SOCIAL_CIRCLE      float64\n",
      " 92  DEF_30_CNT_SOCIAL_CIRCLE      float64\n",
      " 93  OBS_60_CNT_SOCIAL_CIRCLE      float64\n",
      " 94  DEF_60_CNT_SOCIAL_CIRCLE      float64\n",
      " 95  DAYS_LAST_PHONE_CHANGE        float64\n",
      " 96  FLAG_DOCUMENT_2               int64  \n",
      " 97  FLAG_DOCUMENT_3               int64  \n",
      " 98  FLAG_DOCUMENT_4               int64  \n",
      " 99  FLAG_DOCUMENT_5               int64  \n",
      " 100 FLAG_DOCUMENT_6               int64  \n",
      " 101 FLAG_DOCUMENT_7               int64  \n",
      " 102 FLAG_DOCUMENT_8               int64  \n",
      " 103 FLAG_DOCUMENT_9               int64  \n",
      " 104 FLAG_DOCUMENT_10              int64  \n",
      " 105 FLAG_DOCUMENT_11              int64  \n",
      " 106 FLAG_DOCUMENT_12              int64  \n",
      " 107 FLAG_DOCUMENT_13              int64  \n",
      " 108 FLAG_DOCUMENT_14              int64  \n",
      " 109 FLAG_DOCUMENT_15              int64  \n",
      " 110 FLAG_DOCUMENT_16              int64  \n",
      " 111 FLAG_DOCUMENT_17              int64  \n",
      " 112 FLAG_DOCUMENT_18              int64  \n",
      " 113 FLAG_DOCUMENT_19              int64  \n",
      " 114 FLAG_DOCUMENT_20              int64  \n",
      " 115 FLAG_DOCUMENT_21              int64  \n",
      " 116 AMT_REQ_CREDIT_BUREAU_HOUR    float64\n",
      " 117 AMT_REQ_CREDIT_BUREAU_DAY     float64\n",
      " 118 AMT_REQ_CREDIT_BUREAU_WEEK    float64\n",
      " 119 AMT_REQ_CREDIT_BUREAU_MON     float64\n",
      " 120 AMT_REQ_CREDIT_BUREAU_QRT     float64\n",
      " 121 AMT_REQ_CREDIT_BUREAU_YEAR    float64\n",
      "dtypes: float64(65), int64(41), object(16)\n",
      "memory usage: 286.2+ MB\n"
     ]
    }
   ],
   "source": [
    "app_train.info(verbose=True)\n",
    "# app_train.columns"
   ]
  },
  {
   "cell_type": "markdown",
   "metadata": {},
   "source": [
    "#### 截取部分資料"
   ]
  },
  {
   "cell_type": "code",
   "execution_count": 36,
   "metadata": {},
   "outputs": [
    {
     "data": {
      "text/html": [
       "<div>\n",
       "<style scoped>\n",
       "    .dataframe tbody tr th:only-of-type {\n",
       "        vertical-align: middle;\n",
       "    }\n",
       "\n",
       "    .dataframe tbody tr th {\n",
       "        vertical-align: top;\n",
       "    }\n",
       "\n",
       "    .dataframe thead th {\n",
       "        text-align: right;\n",
       "    }\n",
       "</style>\n",
       "<table border=\"1\" class=\"dataframe\">\n",
       "  <thead>\n",
       "    <tr style=\"text-align: right;\">\n",
       "      <th></th>\n",
       "      <th>CODE_GENDER</th>\n",
       "      <th>CNT_CHILDREN</th>\n",
       "    </tr>\n",
       "  </thead>\n",
       "  <tbody>\n",
       "    <tr>\n",
       "      <th>2</th>\n",
       "      <td>M</td>\n",
       "      <td>0</td>\n",
       "    </tr>\n",
       "    <tr>\n",
       "      <th>3</th>\n",
       "      <td>F</td>\n",
       "      <td>0</td>\n",
       "    </tr>\n",
       "    <tr>\n",
       "      <th>4</th>\n",
       "      <td>M</td>\n",
       "      <td>0</td>\n",
       "    </tr>\n",
       "  </tbody>\n",
       "</table>\n",
       "</div>"
      ],
      "text/plain": [
       "  CODE_GENDER  CNT_CHILDREN\n",
       "2           M             0\n",
       "3           F             0\n",
       "4           M             0"
      ]
     },
     "execution_count": 36,
     "metadata": {},
     "output_type": "execute_result"
    }
   ],
   "source": [
    "# app_train[['TARGET','CODE_GENDER']][2:5]\n",
    "# app_train.loc[1:4]#iloc[1:3]\n",
    "\n",
    "app_train.loc[1:7,'TARGET':'CODE_GENDER']\n",
    "app_train.iloc[2:5,[3,6]]"
   ]
  },
  {
   "cell_type": "markdown",
   "metadata": {},
   "source": [
    "#### 還有各種數之不盡的資料操作，重點還是取決於實務中遇到的狀況和你想問的問題，在馬拉松中我們也會陸續提到更多例子"
   ]
  },
  {
   "cell_type": "code",
   "execution_count": null,
   "metadata": {
    "collapsed": true,
    "jupyter": {
     "outputs_hidden": true
    }
   },
   "outputs": [],
   "source": []
  }
 ],
 "metadata": {
  "kernelspec": {
   "display_name": "Python 3",
   "language": "python",
   "name": "python3"
  },
  "language_info": {
   "codemirror_mode": {
    "name": "ipython",
    "version": 3
   },
   "file_extension": ".py",
   "mimetype": "text/x-python",
   "name": "python",
   "nbconvert_exporter": "python",
   "pygments_lexer": "ipython3",
   "version": "3.7.6"
  }
 },
 "nbformat": 4,
 "nbformat_minor": 4
}
